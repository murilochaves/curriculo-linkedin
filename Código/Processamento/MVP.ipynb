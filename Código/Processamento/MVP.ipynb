{
 "cells": [
  {
   "cell_type": "markdown",
   "metadata": {},
   "source": [
    "### **Código do `MVP` (prototipação)**"
   ]
  },
  {
   "cell_type": "markdown",
   "metadata": {},
   "source": [
    "> **Contextualização**"
   ]
  },
  {
   "cell_type": "markdown",
   "metadata": {},
   "source": [
    "O projeto em questão visa facilitar a criação de um gráfico de `Gantt` junto com um currículo em `LaTeX` salvo em `PDF`.\n",
    "\n",
    "Sendo assim, teremos as respectivas etapas à serem desenvolvidas:\n",
    "\n",
    "1. `Web Scrapping` das informações do próprio `LinkedIn`\n",
    "2. Criação do gráfico de `Gantt`\n",
    "3. Compilação dos arquivos em `LaTeX` para `PDF`."
   ]
  },
  {
   "cell_type": "markdown",
   "metadata": {},
   "source": [
    "> **Web Scraping**"
   ]
  },
  {
   "cell_type": "markdown",
   "metadata": {},
   "source": [
    "* **Bibliotecas**:"
   ]
  },
  {
   "cell_type": "code",
   "execution_count": 1,
   "metadata": {},
   "outputs": [],
   "source": [
    "from bs4 import BeautifulSoup\n",
    "from selenium import webdriver\n",
    "from selenium.webdriver.common.by import By\n",
    "from selenium.webdriver.common.keys import Keys\n",
    "import time\n",
    "import os\n",
    "from dotenv import load_dotenv\n"
   ]
  },
  {
   "cell_type": "markdown",
   "metadata": {},
   "source": [
    "* **Configurações:**"
   ]
  },
  {
   "cell_type": "code",
   "execution_count": 2,
   "metadata": {},
   "outputs": [
    {
     "data": {
      "text/plain": [
       "True"
      ]
     },
     "execution_count": 2,
     "metadata": {},
     "output_type": "execute_result"
    }
   ],
   "source": [
    "# Pasta dos códigos\n",
    "path_codigos = os.path.dirname(os.getcwd())\n",
    "\n",
    "# Pasta das entradas\n",
    "path_entradas = os.path.join(path_codigos, 'Entrada')\n",
    "\n",
    "# Apontamento para a pasta de entrada\n",
    "os.chdir(path_entradas)\n",
    "\n",
    "# Carregando as variáveis de ambiente\n",
    "load_dotenv('credenciais.env')\n",
    "\n",
    "# # Selenium de forma oculta\n",
    "# configuracoes = webdriver.ChromeOptions()\n",
    "# configuracoes.add_argument(\"--headless=new\")\n"
   ]
  },
  {
   "cell_type": "markdown",
   "metadata": {},
   "source": [
    "* **Links:**"
   ]
  },
  {
   "cell_type": "code",
   "execution_count": 3,
   "metadata": {},
   "outputs": [],
   "source": [
    "# Usuário desejado\n",
    "nome_perfil = os.environ['perfil']\n",
    "\n",
    "# URL padrão\n",
    "url_linkedin = 'https://www.linkedin.com/'\n",
    "\n",
    "# Link direto para o perfil\n",
    "url_perfil = url_linkedin + 'in' + f'/{nome_perfil}/'\n",
    "\n",
    "# Página de Login\n",
    "url_login = url_linkedin + '/login/pt'\n",
    "\n",
    "# Detalhes\n",
    "url_detalhes = url_perfil + 'details/'\n",
    "\n",
    "# Seções\n",
    "url_experiencias = url_detalhes + 'experience'\n",
    "url_estudos = url_detalhes + 'education'\n",
    "url_certificados = url_detalhes + 'certifications'\n",
    "url_voluntarios = url_detalhes + 'volunteering-experiences'"
   ]
  },
  {
   "cell_type": "markdown",
   "metadata": {},
   "source": [
    "* **Navegador:**"
   ]
  },
  {
   "cell_type": "code",
   "execution_count": 4,
   "metadata": {},
   "outputs": [],
   "source": [
    "# Criando o navegador\n",
    "navegador = webdriver.Chrome()  # options=configuracoes\n",
    "\n",
    "# Adicionando delay de carregamento\n",
    "time.sleep(1)\n"
   ]
  },
  {
   "cell_type": "markdown",
   "metadata": {},
   "source": [
    "* **Login:**"
   ]
  },
  {
   "cell_type": "code",
   "execution_count": 17,
   "metadata": {},
   "outputs": [],
   "source": [
    "# Acessando o local de login\n",
    "navegador.get(url_login)\n",
    "\n",
    "# TODO: Remover sleeps e, adicionar algum wait da página carregada\n",
    "\n",
    "# Adicionando delay de carregamento\n",
    "time.sleep(1)\n",
    "\n",
    "# Preenchendo o email\n",
    "navegador.find_element(By.ID, 'username').send_keys(\n",
    "    os.environ['usuario']\n",
    ")\n",
    "\n",
    "# Preenchendo a senha\n",
    "navegador.find_element(By.ID, 'password').send_keys(\n",
    "    os.environ['senha']\n",
    ")\n",
    "\n",
    "# Entrando\n",
    "navegador.find_element(By.ID, 'password').send_keys(Keys.RETURN)\n",
    "\n",
    "# Adicionando delay devido aprovação de login\n",
    "time.sleep(10)\n"
   ]
  },
  {
   "cell_type": "markdown",
   "metadata": {},
   "source": [
    "* **Perfil**:"
   ]
  },
  {
   "cell_type": "code",
   "execution_count": 27,
   "metadata": {},
   "outputs": [],
   "source": [
    "def get_nome(html):\n",
    "    '''\n",
    "    Coleta o nome do profissional por meio de um HTML da página do perfil do LinkedIn.\n",
    "    '''\n",
    "\n",
    "    # Nome do perfil\n",
    "    nome = html.find('h1').text\n",
    "\n",
    "    # Removendo espaçamentos exagerados\n",
    "    nome = nome.strip()\n",
    "\n",
    "    # Retornando o nome do profissional\n",
    "    return nome\n"
   ]
  },
  {
   "cell_type": "code",
   "execution_count": 28,
   "metadata": {},
   "outputs": [],
   "source": [
    "def get_frase(html):\n",
    "    '''\n",
    "    Coleta a frase de efeito do profissional por meio de um HTML da página do perfil do LinkedIn.\n",
    "    '''\n",
    "\n",
    "    # Frase de efeito\n",
    "    frase = html.find('div', {'class': 'text-body-medium'}).text\n",
    "\n",
    "    # Removendo espaçamentos exagerados\n",
    "    frase = frase.strip()\n",
    "\n",
    "    # Retornando a frase de efeito\n",
    "    return frase\n"
   ]
  },
  {
   "cell_type": "code",
   "execution_count": 39,
   "metadata": {},
   "outputs": [],
   "source": [
    "def get_sobre(html):\n",
    "    '''\n",
    "    Coleta o sobre do profissional por meio de um HTML da página do perfil do LinkedIn.\n",
    "    '''\n",
    "\n",
    "    # Filtro dos spans\n",
    "    spans = html.find_all('span')\n",
    "\n",
    "    # Variável auxiliar para contador de, onde está o sobre\n",
    "    index_aux = 0\n",
    "\n",
    "    # Iterando a lista dos spans até encontrar qual o index está o Sobre\n",
    "    for index, div in enumerate(spans):\n",
    "\n",
    "        # Se encontrar o sobre\n",
    "        if 'Sobre' in div:\n",
    "\n",
    "            # Atribui o índice\n",
    "            indice = index\n",
    "\n",
    "    # Pegando o Sobre\n",
    "    sobre = spans[indice + 2].text\n",
    "\n",
    "    # Removendo espaçamentos exagerados\n",
    "    sobre = sobre.strip()\n",
    "\n",
    "    # Retornando o sobre\n",
    "    return sobre"
   ]
  },
  {
   "cell_type": "code",
   "execution_count": 51,
   "metadata": {},
   "outputs": [
    {
     "name": "stdout",
     "output_type": "stream",
     "text": [
      "\n",
      "> [label_nome]: \n",
      "\t Murilo Chaves Jayme \n",
      "\n",
      "> [label_frase]: \n",
      "\t Cientista de dados com foco em mercado financeiro \n",
      "\n",
      "> [label_sobre]: \n",
      "\t Bacharel em Sistemas de Informação pela ULBRA e atualmente cursando dois programas de pós-graduação: MBA em Big Data Science pela FIAP e MBA em Ciência de Dados para o Mercado Financeiro na XP Educação. Tem experiência como pesquisador em projetos financiados pela FAPEG. E, atualmente buscando oportunidades (Cientista de dados ou Analista Quantitativo) para atuação com pesquisa e inovação voltadas para o mercado financeiro. \n",
      "\n"
     ]
    }
   ],
   "source": [
    "# Acessando o perfil do usuários\n",
    "navegador.get(url=url_perfil)\n",
    "\n",
    "# Adicionando delay de carregamento\n",
    "time.sleep(3)\n",
    "\n",
    "# Pegando o conteúdo HTML do perfil\n",
    "html_perfil = BeautifulSoup(\n",
    "    navegador.page_source,\n",
    "    'html.parser'\n",
    ")\n",
    "\n",
    "# Nome do perfil\n",
    "label_nome = get_nome(html_perfil)\n",
    "\n",
    "# Frase de efeito\n",
    "label_frase = get_frase(html_perfil)\n",
    "\n",
    "# Sobre\n",
    "label_sobre = get_sobre(html_perfil)\n",
    "\n",
    "# Informativo\n",
    "print(\n",
    "    '\\n> [label_nome]:', '\\n\\t', label_nome, '\\n'\n",
    "    '\\n> [label_frase]:', '\\n\\t', label_frase, '\\n'\n",
    "    '\\n> [label_sobre]:', '\\n\\t', label_sobre, '\\n'\n",
    ")\n"
   ]
  },
  {
   "cell_type": "markdown",
   "metadata": {},
   "source": [
    "* **Experiência:**"
   ]
  },
  {
   "cell_type": "code",
   "execution_count": 52,
   "metadata": {},
   "outputs": [],
   "source": [
    "# Acessando a página de experiências profissionais\n",
    "navegador.get(url=url_experiencias)\n",
    "\n",
    "# Adicionando tempo para renderização da página\n",
    "time.sleep(3)\n",
    "\n",
    "# Conteúdo das experiências profissionais\n",
    "experiencias = BeautifulSoup(\n",
    "    navegador.page_source,\n",
    "    'html.parser'\n",
    ")"
   ]
  },
  {
   "cell_type": "markdown",
   "metadata": {},
   "source": [
    "* **Formação acadêmica:**"
   ]
  },
  {
   "cell_type": "code",
   "execution_count": 53,
   "metadata": {},
   "outputs": [],
   "source": [
    "# Acessando a página dos estudos\n",
    "navegador.get(url=url_estudos)\n",
    "\n",
    "# Adicionando tempo para renderização da página\n",
    "time.sleep(3)\n",
    "\n",
    "# Conteúdo das experiências profissionais\n",
    "estudos = BeautifulSoup(\n",
    "    navegador.page_source,\n",
    "    'html.parser'\n",
    ")"
   ]
  },
  {
   "cell_type": "markdown",
   "metadata": {},
   "source": [
    "* **Licenças e Certificados:**"
   ]
  },
  {
   "cell_type": "code",
   "execution_count": 54,
   "metadata": {},
   "outputs": [],
   "source": [
    "# Acessando a página dos certificados\n",
    "navegador.get(url=url_certificados)\n",
    "\n",
    "# Adicionando tempo para renderização da página\n",
    "time.sleep(3)\n",
    "\n",
    "# Conteúdo das experiências profissionais\n",
    "certificados = BeautifulSoup(\n",
    "    navegador.page_source,\n",
    "    'html.parser'\n",
    ")"
   ]
  },
  {
   "cell_type": "markdown",
   "metadata": {},
   "source": [
    "* **Trabalho voluntário:**"
   ]
  },
  {
   "cell_type": "code",
   "execution_count": 55,
   "metadata": {},
   "outputs": [],
   "source": [
    "# Acessando a página dos voluntariados\n",
    "navegador.get(url=url_voluntarios)\n",
    "\n",
    "# Adicionando tempo para renderização da página\n",
    "time.sleep(3)\n",
    "\n",
    "# Conteúdo das experiências profissionais\n",
    "voluntarios = BeautifulSoup(\n",
    "    navegador.page_source,\n",
    "    'html.parser'\n",
    ")"
   ]
  },
  {
   "cell_type": "code",
   "execution_count": null,
   "metadata": {},
   "outputs": [],
   "source": []
  }
 ],
 "metadata": {
  "kernelspec": {
   "display_name": "venv",
   "language": "python",
   "name": "python3"
  },
  "language_info": {
   "codemirror_mode": {
    "name": "ipython",
    "version": 3
   },
   "file_extension": ".py",
   "mimetype": "text/x-python",
   "name": "python",
   "nbconvert_exporter": "python",
   "pygments_lexer": "ipython3",
   "version": "3.11.4"
  },
  "orig_nbformat": 4
 },
 "nbformat": 4,
 "nbformat_minor": 2
}
